{
 "cells": [
  {
   "cell_type": "code",
   "execution_count": 4,
   "id": "aff2ecba",
   "metadata": {},
   "outputs": [],
   "source": [
    "import pandas as pd\n",
    "import re"
   ]
  },
  {
   "cell_type": "code",
   "execution_count": null,
   "id": "f873977c",
   "metadata": {},
   "outputs": [],
   "source": []
  },
  {
   "cell_type": "code",
   "execution_count": 11,
   "id": "a0a2efc6",
   "metadata": {},
   "outputs": [],
   "source": [
    "# Select the Revit journal file you would like to parse\n",
    "from tkinter.filedialog import askopenfilename\n",
    "filename = askopenfilename()"
   ]
  },
  {
   "cell_type": "code",
   "execution_count": 12,
   "id": "02e36998",
   "metadata": {},
   "outputs": [
    {
     "data": {
      "text/plain": [
       "'C:/Users/dalto/AppData/Local/Autodesk/Revit/Autodesk Revit 2023/Journals/journal.0024.txt'"
      ]
     },
     "execution_count": 12,
     "metadata": {},
     "output_type": "execute_result"
    }
   ],
   "source": [
    "filename"
   ]
  },
  {
   "cell_type": "code",
   "execution_count": 13,
   "id": "3a12c818",
   "metadata": {},
   "outputs": [],
   "source": [
    "pattern = r\"\\d+:\\s*<\\s+\\d+\\s*:\\s*\\w+\\s*:\\s*\\w+\\s*:\\s*[\\w\\s-]+\\s*:\\s*id\\s+\\d+\"\n",
    "\n",
    "spaces_or_rooms = []\n",
    "\n",
    "with open(filename, \"r\") as f:\n",
    "    for line in f:\n",
    "        if re.search(pattern, line):\n",
    "            spaces_or_rooms.append(line)"
   ]
  },
  {
   "cell_type": "code",
   "execution_count": 14,
   "id": "0e935884",
   "metadata": {},
   "outputs": [
    {
     "data": {
      "text/plain": [
       "[\"  ' 1:<       1 : Rooms : Room : Stock 3 - Number 3 : id 573791 \\n\",\n",
       " \"  ' 1:<       1 : Rooms : Room : Workshop 4 - Number 4 : id 573792 \\n\",\n",
       " \"  ' 1:<       1 : Rooms : Room : Leader 6 - Number 6 : id 573794 \\n\",\n",
       " \"  ' 1:<       1 : Rooms : Room : Leader 8 - Number 8 : id 573795 \\n\",\n",
       " \"  ' 1:<       1 : Rooms : Room : WC H 9 - Number 9 : id 573796 \\n\"]"
      ]
     },
     "execution_count": 14,
     "metadata": {},
     "output_type": "execute_result"
    }
   ],
   "source": [
    "# Printing first 5 strings in list\n",
    "spaces_or_rooms[0:5]"
   ]
  },
  {
   "cell_type": "code",
   "execution_count": 18,
   "id": "77465bc2",
   "metadata": {},
   "outputs": [],
   "source": [
    "rooms = []\n",
    "spaces = []\n",
    "\n",
    "for string in spaces_or_rooms:\n",
    "    if \"Room\" in string:\n",
    "        rooms.append(string.split()[-1])\n",
    "    elif \"Space\" in string:\n",
    "        spaces.append(string.split()[-1])\n",
    "    "
   ]
  },
  {
   "cell_type": "code",
   "execution_count": 19,
   "id": "fe1029d3",
   "metadata": {},
   "outputs": [
    {
     "name": "stdout",
     "output_type": "stream",
     "text": [
      "Total Count of Rooms and spaces not properly enclosed. Rooms: 162 | Spaces: 154\n"
     ]
    }
   ],
   "source": [
    "print(\"Total Count of Rooms and spaces not properly enclosed. Rooms: \" + str(len(rooms)) + \" | Spaces: \" + str(len(spaces)))"
   ]
  },
  {
   "cell_type": "code",
   "execution_count": 22,
   "id": "497ea3cf",
   "metadata": {},
   "outputs": [
    {
     "data": {
      "text/html": [
       "<div>\n",
       "<style scoped>\n",
       "    .dataframe tbody tr th:only-of-type {\n",
       "        vertical-align: middle;\n",
       "    }\n",
       "\n",
       "    .dataframe tbody tr th {\n",
       "        vertical-align: top;\n",
       "    }\n",
       "\n",
       "    .dataframe thead th {\n",
       "        text-align: right;\n",
       "    }\n",
       "</style>\n",
       "<table border=\"1\" class=\"dataframe\">\n",
       "  <thead>\n",
       "    <tr style=\"text-align: right;\">\n",
       "      <th></th>\n",
       "      <th>Rooms</th>\n",
       "      <th>Spaces</th>\n",
       "    </tr>\n",
       "  </thead>\n",
       "  <tbody>\n",
       "    <tr>\n",
       "      <th>0</th>\n",
       "      <td>573791</td>\n",
       "      <td>379575</td>\n",
       "    </tr>\n",
       "    <tr>\n",
       "      <th>1</th>\n",
       "      <td>573792</td>\n",
       "      <td>379578</td>\n",
       "    </tr>\n",
       "    <tr>\n",
       "      <th>2</th>\n",
       "      <td>573794</td>\n",
       "      <td>379584</td>\n",
       "    </tr>\n",
       "    <tr>\n",
       "      <th>3</th>\n",
       "      <td>573795</td>\n",
       "      <td>379586</td>\n",
       "    </tr>\n",
       "    <tr>\n",
       "      <th>4</th>\n",
       "      <td>573796</td>\n",
       "      <td>379588</td>\n",
       "    </tr>\n",
       "    <tr>\n",
       "      <th>5</th>\n",
       "      <td>573797</td>\n",
       "      <td>379597</td>\n",
       "    </tr>\n",
       "    <tr>\n",
       "      <th>6</th>\n",
       "      <td>573798</td>\n",
       "      <td>379770</td>\n",
       "    </tr>\n",
       "    <tr>\n",
       "      <th>7</th>\n",
       "      <td>573799</td>\n",
       "      <td>379918</td>\n",
       "    </tr>\n",
       "    <tr>\n",
       "      <th>8</th>\n",
       "      <td>573800</td>\n",
       "      <td>379923</td>\n",
       "    </tr>\n",
       "    <tr>\n",
       "      <th>9</th>\n",
       "      <td>573801</td>\n",
       "      <td>379928</td>\n",
       "    </tr>\n",
       "  </tbody>\n",
       "</table>\n",
       "</div>"
      ],
      "text/plain": [
       "    Rooms  Spaces\n",
       "0  573791  379575\n",
       "1  573792  379578\n",
       "2  573794  379584\n",
       "3  573795  379586\n",
       "4  573796  379588\n",
       "5  573797  379597\n",
       "6  573798  379770\n",
       "7  573799  379918\n",
       "8  573800  379923\n",
       "9  573801  379928"
      ]
     },
     "execution_count": 22,
     "metadata": {},
     "output_type": "execute_result"
    }
   ],
   "source": [
    "df = pd.DataFrame()\n",
    "df[\"Rooms\"] = rooms\n",
    "df[\"Spaces\"] = pd.Series(spaces)\n",
    "df.head(10)"
   ]
  },
  {
   "cell_type": "code",
   "execution_count": 23,
   "id": "b5a2c596",
   "metadata": {},
   "outputs": [],
   "source": [
    "df.to_excel('Revit Journal Data.xlsx', index = False)"
   ]
  },
  {
   "cell_type": "code",
   "execution_count": null,
   "id": "f4e88541",
   "metadata": {},
   "outputs": [],
   "source": []
  }
 ],
 "metadata": {
  "kernelspec": {
   "display_name": "Python 3",
   "language": "python",
   "name": "python3"
  },
  "language_info": {
   "codemirror_mode": {
    "name": "ipython",
    "version": 3
   },
   "file_extension": ".py",
   "mimetype": "text/x-python",
   "name": "python",
   "nbconvert_exporter": "python",
   "pygments_lexer": "ipython3",
   "version": "3.8.8"
  }
 },
 "nbformat": 4,
 "nbformat_minor": 5
}
