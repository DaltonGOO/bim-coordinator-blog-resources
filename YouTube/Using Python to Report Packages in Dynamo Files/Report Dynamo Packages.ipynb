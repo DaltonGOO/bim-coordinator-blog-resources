{
 "cells": [
  {
   "cell_type": "code",
   "execution_count": 31,
   "id": "c4a82b40",
   "metadata": {},
   "outputs": [
    {
     "name": "stdout",
     "output_type": "stream",
     "text": [
      "{'CAD Doors.dyn': ['bimorphNodes', 'archi-lab.net'], 'Dynamo - Copy Elements from Link.dyn': ['Orchid', 'bimorphNodes', 'archi-lab.net'], 'CAD to Revit 2020.dyn': ['bimorphNodes', 'bimorphNodes'], 'Filters By View Template.dyn': ['archi-lab.net'], 'Logarithmic Spiral from a Golden Rectangle.dyn': ['FibonacciSpiral.svg.png'], 'Replace Shared Parameters with Family Parameters.dyn': ['Orchid']}\n"
     ]
    }
   ],
   "source": [
    "import os\n",
    "import json\n",
    "\n",
    "directory_to_search = r\"C:\\Users\\dalto\\OneDrive\\My Stuff\\GitHub\\bim-coordinator-resources\\YouTube\"\n",
    "\n",
    "# Get a list of all .dyn files in the directory\n",
    "dyn_files = [os.path.join(root, file) for root, _, files in os.walk(directory_to_search) for file in files if file.endswith('.dyn')]\n",
    "\n",
    "script_to_packages = {}  # Dictionary to store script names as keys and associated packages as values\n",
    "\n",
    "for p in dyn_files:\n",
    "    with open(p, encoding=\"UTF-8\") as f:\n",
    "        content = f.read()\n",
    "        dynamo = json.loads(content)\n",
    "\n",
    "        if \"NodeLibraryDependencies\" in dynamo:\n",
    "            packages_for_this_script = [i.get(\"Name\") for i in dynamo.get(\"NodeLibraryDependencies\")]\n",
    "            \n",
    "            # Only add to the dictionary if there are packages for this script\n",
    "            if packages_for_this_script:\n",
    "                script_name = os.path.basename(p)\n",
    "                script_to_packages[script_name] = packages_for_this_script\n",
    "\n",
    "print(script_to_packages)"
   ]
  },
  {
   "cell_type": "code",
   "execution_count": null,
   "id": "b8c24ab4",
   "metadata": {},
   "outputs": [],
   "source": []
  }
 ],
 "metadata": {
  "kernelspec": {
   "display_name": "Python 3",
   "language": "python",
   "name": "python3"
  },
  "language_info": {
   "codemirror_mode": {
    "name": "ipython",
    "version": 3
   },
   "file_extension": ".py",
   "mimetype": "text/x-python",
   "name": "python",
   "nbconvert_exporter": "python",
   "pygments_lexer": "ipython3",
   "version": "3.8.8"
  }
 },
 "nbformat": 4,
 "nbformat_minor": 5
}
